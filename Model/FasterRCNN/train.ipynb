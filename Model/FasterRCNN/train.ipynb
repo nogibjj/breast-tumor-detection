{
 "cells": [
  {
   "attachments": {},
   "cell_type": "markdown",
   "metadata": {},
   "source": [
    "# Training Faster-RCNN Model"
   ]
  },
  {
   "cell_type": "code",
   "execution_count": 1,
   "metadata": {},
   "outputs": [],
   "source": [
    "import sys\n",
    "sys.path.insert(0,'/workspaces/breast-tumor-detection/Model/FasterRCNN/src/')"
   ]
  },
  {
   "cell_type": "code",
   "execution_count": 2,
   "metadata": {},
   "outputs": [
    {
     "name": "stderr",
     "output_type": "stream",
     "text": [
      "/workspaces/breast-tumor-detection/.venv/lib/python3.10/site-packages/tqdm/auto.py:21: TqdmWarning: IProgress not found. Please update jupyter and ipywidgets. See https://ipywidgets.readthedocs.io/en/stable/user_install.html\n",
      "  from .autonotebook import tqdm as notebook_tqdm\n"
     ]
    },
    {
     "name": "stdout",
     "output_type": "stream",
     "text": [
      "Number of training samples: 29\n",
      "Number of validation samples: 10\n",
      "\n"
     ]
    }
   ],
   "source": [
    "from config import DEVICE, NUM_CLASSES, NUM_EPOCHS, OUT_DIR\n",
    "from config import VISUALIZE_TRANSFORMED_IMAGES\n",
    "from config import SAVE_PLOTS_EPOCH, SAVE_MODEL_EPOCH\n",
    "from model_modified import create_model, MyModel\n",
    "from utils import Averager, show_tranformed_image\n",
    "from tqdm.auto import tqdm\n",
    "from dataset import train_loader, valid_loader\n",
    "import torch\n",
    "import matplotlib.pyplot as plt\n",
    "import time"
   ]
  },
  {
   "cell_type": "code",
   "execution_count": 3,
   "metadata": {},
   "outputs": [],
   "source": [
    "# function for running training iterations\n",
    "def train(train_data_loader, model, optimizer, train_itr, train_loss_list, train_loss_hist):\n",
    "    \"\"\"Run Training Iterations\"\"\"\n",
    "    print(\"Training\")\n",
    "    # initialize tqdm progress bar\n",
    "    prog_bar = tqdm(train_data_loader, total=len(train_data_loader))\n",
    "\n",
    "    for data in prog_bar:\n",
    "        optimizer.zero_grad()\n",
    "        images, targets = data\n",
    "        images = [image.to(DEVICE) for image in images]\n",
    "        targets = [\n",
    "            {k: v.to(DEVICE, dtype=torch.int64) for k, v in t.items()} for t in targets\n",
    "        ]\n",
    "\n",
    "        loss_dict = model(images, targets)\n",
    "\n",
    "        losses = sum(loss for loss in loss_dict.values())\n",
    "        loss_value = losses.item()\n",
    "        train_loss_list.append(loss_value)\n",
    "\n",
    "        train_loss_hist.send(loss_value)\n",
    "\n",
    "        losses.backward(retain_graph=True)\n",
    "        optimizer.step()\n",
    "\n",
    "        train_itr += 1\n",
    "\n",
    "        # update the loss value beside the progress bar for each iteration\n",
    "        prog_bar.set_description(desc=f\"Loss: {loss_value:.4f}\")\n",
    "    return train_loss_list\n",
    "\n",
    "\n",
    "# function for running validation iterations\n",
    "def validate(valid_data_loader, model, val_itr, val_loss_list, val_loss_hist):\n",
    "    \"\"\"Run Validation Iterations\"\"\"\n",
    "    print(\"Validating\")\n",
    "    # initialize tqdm progress bar\n",
    "    prog_bar = tqdm(valid_data_loader, total=len(valid_data_loader))\n",
    "\n",
    "    for data in prog_bar:\n",
    "        images, targets = data\n",
    "        images = [image.to(DEVICE) for image in images]\n",
    "        targets = [\n",
    "            {k: v.to(DEVICE, dtype=torch.int64) for k, v in t.items()} for t in targets\n",
    "        ]\n",
    "        with torch.no_grad():\n",
    "            loss_dict = model(images, targets)\n",
    "        losses = sum(loss for loss in loss_dict.values())\n",
    "        loss_value = losses.item()\n",
    "        val_loss_list.append(loss_value)\n",
    "        val_loss_hist.send(loss_value)\n",
    "        val_itr += 1\n",
    "        # update the loss value beside the progress bar for each iteration\n",
    "        prog_bar.set_description(desc=f\"Loss: {loss_value:.4f}\")\n",
    "    return val_loss_list"
   ]
  },
  {
   "attachments": {},
   "cell_type": "markdown",
   "metadata": {},
   "source": [
    "### Initialize model and parameters"
   ]
  },
  {
   "cell_type": "code",
   "execution_count": 15,
   "metadata": {},
   "outputs": [
    {
     "name": "stdout",
     "output_type": "stream",
     "text": [
      "\n",
      "EPOCH 1 of 20\n",
      "Training\n"
     ]
    },
    {
     "name": "stderr",
     "output_type": "stream",
     "text": [
      "Loss: 0.6550: 100%|██████████| 29/29 [00:02<00:00,  9.69it/s] \n"
     ]
    },
    {
     "name": "stdout",
     "output_type": "stream",
     "text": [
      "Validating\n"
     ]
    },
    {
     "name": "stderr",
     "output_type": "stream",
     "text": [
      "Loss: 1.4379: 100%|██████████| 10/10 [00:00<00:00, 16.70it/s]\n"
     ]
    },
    {
     "name": "stdout",
     "output_type": "stream",
     "text": [
      "Epoch #0 train loss: 7.968\n",
      "Epoch #0 validation loss: 2.169\n",
      "Took 0.061 minutes for epoch 0\n",
      "\n",
      "EPOCH 2 of 20\n",
      "Training\n"
     ]
    },
    {
     "name": "stderr",
     "output_type": "stream",
     "text": [
      "Loss: 0.7715: 100%|██████████| 29/29 [00:02<00:00, 10.33it/s] \n"
     ]
    },
    {
     "name": "stdout",
     "output_type": "stream",
     "text": [
      "Validating\n"
     ]
    },
    {
     "name": "stderr",
     "output_type": "stream",
     "text": [
      "Loss: 0.7516: 100%|██████████| 10/10 [00:00<00:00, 15.99it/s]\n"
     ]
    },
    {
     "name": "stdout",
     "output_type": "stream",
     "text": [
      "Epoch #1 train loss: 2.749\n",
      "Epoch #1 validation loss: 0.796\n",
      "Took 0.059 minutes for epoch 1\n",
      "\n",
      "EPOCH 3 of 20\n",
      "Training\n"
     ]
    },
    {
     "name": "stderr",
     "output_type": "stream",
     "text": [
      "Loss: 0.1903: 100%|██████████| 29/29 [00:02<00:00, 10.34it/s]\n"
     ]
    },
    {
     "name": "stdout",
     "output_type": "stream",
     "text": [
      "Validating\n"
     ]
    },
    {
     "name": "stderr",
     "output_type": "stream",
     "text": [
      "Loss: 0.2162: 100%|██████████| 10/10 [00:00<00:00, 16.04it/s]\n"
     ]
    },
    {
     "name": "stdout",
     "output_type": "stream",
     "text": [
      "Epoch #2 train loss: 0.514\n",
      "Epoch #2 validation loss: 0.194\n",
      "Took 0.059 minutes for epoch 2\n",
      "\n",
      "EPOCH 4 of 20\n",
      "Training\n"
     ]
    },
    {
     "name": "stderr",
     "output_type": "stream",
     "text": [
      "Loss: 0.3037: 100%|██████████| 29/29 [00:02<00:00, 10.30it/s]\n"
     ]
    },
    {
     "name": "stdout",
     "output_type": "stream",
     "text": [
      "Validating\n"
     ]
    },
    {
     "name": "stderr",
     "output_type": "stream",
     "text": [
      "Loss: 0.3916: 100%|██████████| 10/10 [00:00<00:00, 16.15it/s]\n"
     ]
    },
    {
     "name": "stdout",
     "output_type": "stream",
     "text": [
      "Epoch #3 train loss: 0.316\n",
      "Epoch #3 validation loss: 0.311\n",
      "Took 0.059 minutes for epoch 3\n",
      "\n",
      "EPOCH 5 of 20\n",
      "Training\n"
     ]
    },
    {
     "name": "stderr",
     "output_type": "stream",
     "text": [
      "Loss: 0.1379: 100%|██████████| 29/29 [00:02<00:00, 10.30it/s]\n"
     ]
    },
    {
     "name": "stdout",
     "output_type": "stream",
     "text": [
      "Validating\n"
     ]
    },
    {
     "name": "stderr",
     "output_type": "stream",
     "text": [
      "Loss: 0.2782: 100%|██████████| 10/10 [00:00<00:00, 16.14it/s]\n"
     ]
    },
    {
     "name": "stdout",
     "output_type": "stream",
     "text": [
      "Epoch #4 train loss: 0.435\n",
      "Epoch #4 validation loss: 0.285\n",
      "Took 0.059 minutes for epoch 4\n",
      "\n",
      "EPOCH 6 of 20\n",
      "Training\n"
     ]
    },
    {
     "name": "stderr",
     "output_type": "stream",
     "text": [
      "Loss: 0.1501: 100%|██████████| 29/29 [00:02<00:00, 10.21it/s]\n"
     ]
    },
    {
     "name": "stdout",
     "output_type": "stream",
     "text": [
      "Validating\n"
     ]
    },
    {
     "name": "stderr",
     "output_type": "stream",
     "text": [
      "Loss: 0.2757: 100%|██████████| 10/10 [00:00<00:00, 15.97it/s]\n"
     ]
    },
    {
     "name": "stdout",
     "output_type": "stream",
     "text": [
      "Epoch #5 train loss: 0.238\n",
      "Epoch #5 validation loss: 0.231\n",
      "Took 0.059 minutes for epoch 5\n",
      "\n",
      "EPOCH 7 of 20\n",
      "Training\n"
     ]
    },
    {
     "name": "stderr",
     "output_type": "stream",
     "text": [
      "Loss: 0.5976: 100%|██████████| 29/29 [00:02<00:00,  9.91it/s]\n"
     ]
    },
    {
     "name": "stdout",
     "output_type": "stream",
     "text": [
      "Validating\n"
     ]
    },
    {
     "name": "stderr",
     "output_type": "stream",
     "text": [
      "Loss: 0.1150: 100%|██████████| 10/10 [00:00<00:00, 16.05it/s]\n"
     ]
    },
    {
     "name": "stdout",
     "output_type": "stream",
     "text": [
      "Epoch #6 train loss: 0.349\n",
      "Epoch #6 validation loss: 0.331\n",
      "Took 0.061 minutes for epoch 6\n",
      "\n",
      "EPOCH 8 of 20\n",
      "Training\n"
     ]
    },
    {
     "name": "stderr",
     "output_type": "stream",
     "text": [
      "Loss: 0.7621: 100%|██████████| 29/29 [00:02<00:00, 10.20it/s]\n"
     ]
    },
    {
     "name": "stdout",
     "output_type": "stream",
     "text": [
      "Validating\n"
     ]
    },
    {
     "name": "stderr",
     "output_type": "stream",
     "text": [
      "Loss: 0.9077: 100%|██████████| 10/10 [00:00<00:00, 15.61it/s]\n"
     ]
    },
    {
     "name": "stdout",
     "output_type": "stream",
     "text": [
      "Epoch #7 train loss: 0.830\n",
      "Epoch #7 validation loss: 0.778\n",
      "Took 0.060 minutes for epoch 7\n",
      "\n",
      "EPOCH 9 of 20\n",
      "Training\n"
     ]
    },
    {
     "name": "stderr",
     "output_type": "stream",
     "text": [
      "Loss: 0.2256: 100%|██████████| 29/29 [00:02<00:00, 10.20it/s]\n"
     ]
    },
    {
     "name": "stdout",
     "output_type": "stream",
     "text": [
      "Validating\n"
     ]
    },
    {
     "name": "stderr",
     "output_type": "stream",
     "text": [
      "Loss: 0.4348: 100%|██████████| 10/10 [00:00<00:00, 16.30it/s]\n"
     ]
    },
    {
     "name": "stdout",
     "output_type": "stream",
     "text": [
      "Epoch #8 train loss: 0.712\n",
      "Epoch #8 validation loss: 0.832\n",
      "Took 0.059 minutes for epoch 8\n",
      "\n",
      "EPOCH 10 of 20\n",
      "Training\n"
     ]
    },
    {
     "name": "stderr",
     "output_type": "stream",
     "text": [
      "Loss: 0.7393: 100%|██████████| 29/29 [00:02<00:00, 10.16it/s]\n"
     ]
    },
    {
     "name": "stdout",
     "output_type": "stream",
     "text": [
      "Validating\n"
     ]
    },
    {
     "name": "stderr",
     "output_type": "stream",
     "text": [
      "Loss: 0.7567: 100%|██████████| 10/10 [00:00<00:00, 15.76it/s]\n"
     ]
    },
    {
     "name": "stdout",
     "output_type": "stream",
     "text": [
      "Epoch #9 train loss: 0.866\n",
      "Epoch #9 validation loss: 0.739\n",
      "Took 0.059 minutes for epoch 9\n",
      "\n",
      "EPOCH 11 of 20\n",
      "Training\n"
     ]
    },
    {
     "name": "stderr",
     "output_type": "stream",
     "text": [
      "Loss: 6.0551: 100%|██████████| 29/29 [00:02<00:00, 10.23it/s] \n"
     ]
    },
    {
     "name": "stdout",
     "output_type": "stream",
     "text": [
      "Validating\n"
     ]
    },
    {
     "name": "stderr",
     "output_type": "stream",
     "text": [
      "Loss: 21.2616: 100%|██████████| 10/10 [00:00<00:00, 15.19it/s]\n"
     ]
    },
    {
     "name": "stdout",
     "output_type": "stream",
     "text": [
      "Epoch #10 train loss: 3.470\n",
      "Epoch #10 validation loss: 18.466\n",
      "Took 0.060 minutes for epoch 10\n",
      "\n",
      "EPOCH 12 of 20\n",
      "Training\n"
     ]
    },
    {
     "name": "stderr",
     "output_type": "stream",
     "text": [
      "Loss: nan: 100%|██████████| 29/29 [00:02<00:00, 11.03it/s]          \n"
     ]
    },
    {
     "name": "stdout",
     "output_type": "stream",
     "text": [
      "Validating\n"
     ]
    },
    {
     "name": "stderr",
     "output_type": "stream",
     "text": [
      "Loss: nan: 100%|██████████| 10/10 [00:00<00:00, 17.46it/s]\n"
     ]
    },
    {
     "name": "stdout",
     "output_type": "stream",
     "text": [
      "Epoch #11 train loss: nan\n",
      "Epoch #11 validation loss: nan\n",
      "Took 0.055 minutes for epoch 11\n",
      "\n",
      "EPOCH 13 of 20\n",
      "Training\n"
     ]
    },
    {
     "name": "stderr",
     "output_type": "stream",
     "text": [
      "Loss: nan: 100%|██████████| 29/29 [00:02<00:00, 11.02it/s]\n"
     ]
    },
    {
     "name": "stdout",
     "output_type": "stream",
     "text": [
      "Validating\n"
     ]
    },
    {
     "name": "stderr",
     "output_type": "stream",
     "text": [
      "Loss: nan: 100%|██████████| 10/10 [00:00<00:00, 18.04it/s]\n"
     ]
    },
    {
     "name": "stdout",
     "output_type": "stream",
     "text": [
      "Epoch #12 train loss: nan\n",
      "Epoch #12 validation loss: nan\n",
      "Took 0.054 minutes for epoch 12\n",
      "\n",
      "EPOCH 14 of 20\n",
      "Training\n"
     ]
    },
    {
     "name": "stderr",
     "output_type": "stream",
     "text": [
      "Loss: nan: 100%|██████████| 29/29 [00:02<00:00, 11.11it/s]\n"
     ]
    },
    {
     "name": "stdout",
     "output_type": "stream",
     "text": [
      "Validating\n"
     ]
    },
    {
     "name": "stderr",
     "output_type": "stream",
     "text": [
      "Loss: nan: 100%|██████████| 10/10 [00:00<00:00, 17.73it/s]\n"
     ]
    },
    {
     "name": "stdout",
     "output_type": "stream",
     "text": [
      "Epoch #13 train loss: nan\n",
      "Epoch #13 validation loss: nan\n",
      "Took 0.054 minutes for epoch 13\n",
      "\n",
      "EPOCH 15 of 20\n",
      "Training\n"
     ]
    },
    {
     "name": "stderr",
     "output_type": "stream",
     "text": [
      "Loss: nan: 100%|██████████| 29/29 [00:02<00:00, 11.27it/s]\n"
     ]
    },
    {
     "name": "stdout",
     "output_type": "stream",
     "text": [
      "Validating\n"
     ]
    },
    {
     "name": "stderr",
     "output_type": "stream",
     "text": [
      "Loss: nan: 100%|██████████| 10/10 [00:00<00:00, 17.65it/s]\n"
     ]
    },
    {
     "name": "stdout",
     "output_type": "stream",
     "text": [
      "Epoch #14 train loss: nan\n",
      "Epoch #14 validation loss: nan\n",
      "Took 0.054 minutes for epoch 14\n",
      "\n",
      "EPOCH 16 of 20\n",
      "Training\n"
     ]
    },
    {
     "name": "stderr",
     "output_type": "stream",
     "text": [
      "Loss: nan: 100%|██████████| 29/29 [00:02<00:00, 11.19it/s]\n"
     ]
    },
    {
     "name": "stdout",
     "output_type": "stream",
     "text": [
      "Validating\n"
     ]
    },
    {
     "name": "stderr",
     "output_type": "stream",
     "text": [
      "Loss: nan: 100%|██████████| 10/10 [00:00<00:00, 18.21it/s]\n"
     ]
    },
    {
     "name": "stdout",
     "output_type": "stream",
     "text": [
      "Epoch #15 train loss: nan\n",
      "Epoch #15 validation loss: nan\n",
      "Took 0.054 minutes for epoch 15\n",
      "\n",
      "EPOCH 17 of 20\n",
      "Training\n"
     ]
    },
    {
     "name": "stderr",
     "output_type": "stream",
     "text": [
      "Loss: nan: 100%|██████████| 29/29 [00:02<00:00, 11.17it/s]\n"
     ]
    },
    {
     "name": "stdout",
     "output_type": "stream",
     "text": [
      "Validating\n"
     ]
    },
    {
     "name": "stderr",
     "output_type": "stream",
     "text": [
      "Loss: nan: 100%|██████████| 10/10 [00:00<00:00, 18.16it/s]\n"
     ]
    },
    {
     "name": "stdout",
     "output_type": "stream",
     "text": [
      "Epoch #16 train loss: nan\n",
      "Epoch #16 validation loss: nan\n",
      "Took 0.054 minutes for epoch 16\n",
      "\n",
      "EPOCH 18 of 20\n",
      "Training\n"
     ]
    },
    {
     "name": "stderr",
     "output_type": "stream",
     "text": [
      "Loss: nan: 100%|██████████| 29/29 [00:02<00:00, 11.20it/s]\n"
     ]
    },
    {
     "name": "stdout",
     "output_type": "stream",
     "text": [
      "Validating\n"
     ]
    },
    {
     "name": "stderr",
     "output_type": "stream",
     "text": [
      "Loss: nan: 100%|██████████| 10/10 [00:00<00:00, 17.88it/s]\n"
     ]
    },
    {
     "name": "stdout",
     "output_type": "stream",
     "text": [
      "Epoch #17 train loss: nan\n",
      "Epoch #17 validation loss: nan\n",
      "Took 0.054 minutes for epoch 17\n",
      "\n",
      "EPOCH 19 of 20\n",
      "Training\n"
     ]
    },
    {
     "name": "stderr",
     "output_type": "stream",
     "text": [
      "Loss: nan: 100%|██████████| 29/29 [00:02<00:00, 11.14it/s]\n"
     ]
    },
    {
     "name": "stdout",
     "output_type": "stream",
     "text": [
      "Validating\n"
     ]
    },
    {
     "name": "stderr",
     "output_type": "stream",
     "text": [
      "Loss: nan: 100%|██████████| 10/10 [00:00<00:00, 18.02it/s]\n"
     ]
    },
    {
     "name": "stdout",
     "output_type": "stream",
     "text": [
      "Epoch #18 train loss: nan\n",
      "Epoch #18 validation loss: nan\n",
      "Took 0.054 minutes for epoch 18\n",
      "\n",
      "EPOCH 20 of 20\n",
      "Training\n"
     ]
    },
    {
     "name": "stderr",
     "output_type": "stream",
     "text": [
      "Loss: nan: 100%|██████████| 29/29 [00:02<00:00, 11.21it/s]\n"
     ]
    },
    {
     "name": "stdout",
     "output_type": "stream",
     "text": [
      "Validating\n"
     ]
    },
    {
     "name": "stderr",
     "output_type": "stream",
     "text": [
      "Loss: nan: 100%|██████████| 10/10 [00:00<00:00, 17.56it/s]\n"
     ]
    },
    {
     "name": "stdout",
     "output_type": "stream",
     "text": [
      "Epoch #19 train loss: nan\n",
      "Epoch #19 validation loss: nan\n",
      "Took 0.054 minutes for epoch 19\n"
     ]
    }
   ],
   "source": [
    "# initialize the model and move to the computation device\n",
    "model = MyModel(pretrained=create_model(NUM_CLASSES))\n",
    "model = model.cuda()\n",
    "# get the model parameters\n",
    "params = [p for p in model.parameters() if p.requires_grad]\n",
    "# define the optimizer\n",
    "optimizer = torch.optim.SGD(params, lr=0.0001, momentum=0.9, weight_decay=0.0005)\n",
    "# optimizer = torch.optim.Adam(params, lr = 0.0001)\n",
    "\n",
    "# initialize the Averager class\n",
    "train_loss_hist = Averager()\n",
    "val_loss_hist = Averager()\n",
    "train_itr = 1\n",
    "val_itr = 1\n",
    "# train and validation loss lists to store loss values of all...\n",
    "# ... iterations till ena and plot graphs for all iterations\n",
    "train_loss_list = []\n",
    "val_loss_list = []\n",
    "logits_list = []\n",
    "\n",
    "# start the training epochs\n",
    "for epoch in range(20):\n",
    "    print(f\"\\nEPOCH {epoch+1} of {20}\")\n",
    "\n",
    "    # reset the training and validation loss histories for the current epoch\n",
    "    train_loss_hist.reset()\n",
    "    val_loss_hist.reset()\n",
    "    \n",
    "    # start timer and carry out training and validation\n",
    "    start = time.time()\n",
    "    train_loss = train(train_loader, model, optimizer, train_itr, train_loss_list, train_loss_hist)\n",
    "    logits_list.append(list(next(model.parameters()).detach().cpu()))\n",
    "    # print(next(model.parameters()).detach().cpu().numpy())\n",
    "    val_loss = validate(valid_loader, model, val_itr, val_loss_list, val_loss_hist)\n",
    "    print(f\"Epoch #{epoch} train loss: {train_loss_hist.value:.3f}\")\n",
    "    print(f\"Epoch #{epoch} validation loss: {val_loss_hist.value:.3f}\")\n",
    "    end = time.time()\n",
    "    print(f\"Took {((end - start) / 60):.3f} minutes for epoch {epoch}\")"
   ]
  },
  {
   "cell_type": "code",
   "execution_count": 16,
   "metadata": {},
   "outputs": [
    {
     "data": {
      "text/plain": [
       "array([0.462992  , 0.46298516, 0.46297824, 0.46297133, 0.46296442,\n",
       "       0.4629575 , 0.4629506 , 0.46294367, 0.46293676, 0.46292984,\n",
       "       0.46292293,        nan,        nan,        nan,        nan,\n",
       "              nan,        nan,        nan,        nan,        nan],\n",
       "      dtype=float32)"
      ]
     },
     "execution_count": 16,
     "metadata": {},
     "output_type": "execute_result"
    }
   ],
   "source": [
    "import numpy as np\n",
    "logits_array = np.array(logits_list)\n",
    "logits_array[:,0]"
   ]
  }
 ],
 "metadata": {
  "kernelspec": {
   "display_name": ".venv",
   "language": "python",
   "name": "python3"
  },
  "language_info": {
   "codemirror_mode": {
    "name": "ipython",
    "version": 3
   },
   "file_extension": ".py",
   "mimetype": "text/x-python",
   "name": "python",
   "nbconvert_exporter": "python",
   "pygments_lexer": "ipython3",
   "version": "3.10.4"
  },
  "orig_nbformat": 4
 },
 "nbformat": 4,
 "nbformat_minor": 2
}
