{
 "cells": [
  {
   "attachments": {},
   "cell_type": "markdown",
   "metadata": {},
   "source": [
    "# Faster–RCNN"
   ]
  },
  {
   "cell_type": "code",
   "execution_count": 9,
   "metadata": {},
   "outputs": [],
   "source": [
    "import os\n",
    "import random\n",
    "import imageio\n",
    "image_dir = '/workspaces/breast-tumor-detection/Data/Original_Data/pos'\n",
    "images = os.listdir(image_dir)"
   ]
  },
  {
   "cell_type": "code",
   "execution_count": 8,
   "metadata": {},
   "outputs": [],
   "source": [
    "select_images = random.choices(images, k = 40)\n",
    "random.shuffle(select_images)\n",
    "training_images = select_images[:30]\n",
    "validation_images = select_images[30:]"
   ]
  },
  {
   "cell_type": "code",
   "execution_count": 14,
   "metadata": {},
   "outputs": [],
   "source": [
    "#store training and validation images\n",
    "train_destination_dir = '/workspaces/breast-tumor-detection/Model/FasterRCNN/data/train'\n",
    "val_destination_dir = '/workspaces/breast-tumor-detection/Model/FasterRCNN/data/val'\n",
    "\n",
    "#iterate to store\n",
    "for img_path in training_images:\n",
    "    img_path_full = os.path.join(image_dir, img_path)\n",
    "    assert os.path.exists(img_path_full)\n",
    "    img = imageio.v2.imread(img_path_full)\n",
    "    imageio.imwrite(os.path.join(train_destination_dir, img_path), img)"
   ]
  },
  {
   "cell_type": "code",
   "execution_count": 15,
   "metadata": {},
   "outputs": [],
   "source": [
    "#iterate to store\n",
    "for img_path in validation_images:\n",
    "    img_path_full = os.path.join(image_dir, img_path)\n",
    "    assert os.path.exists(img_path_full)\n",
    "    img = imageio.v2.imread(img_path_full)\n",
    "    imageio.imwrite(os.path.join(val_destination_dir, img_path), img)"
   ]
  }
 ],
 "metadata": {
  "kernelspec": {
   "display_name": ".venv",
   "language": "python",
   "name": "python3"
  },
  "language_info": {
   "codemirror_mode": {
    "name": "ipython",
    "version": 3
   },
   "file_extension": ".py",
   "mimetype": "text/x-python",
   "name": "python",
   "nbconvert_exporter": "python",
   "pygments_lexer": "ipython3",
   "version": "3.10.4"
  },
  "orig_nbformat": 4
 },
 "nbformat": 4,
 "nbformat_minor": 2
}
