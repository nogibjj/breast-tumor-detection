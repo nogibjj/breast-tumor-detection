{
 "cells": [
  {
   "cell_type": "code",
   "execution_count": 1,
   "metadata": {},
   "outputs": [],
   "source": [
    "import torch\n",
    "from IPython.display import Image  # for displaying images\n",
    "import os \n",
    "import random\n",
    "import shutil\n",
    "from sklearn.model_selection import train_test_split\n",
    "import pandas as pd\n",
    "from tqdm import tqdm\n",
    "from PIL import Image, ImageDraw\n",
    "import numpy as np\n",
    "import matplotlib.pyplot as plt\n",
    "from PIL import Image, ImageOps\n",
    "import glob\n",
    "\n",
    "random.seed(108)"
   ]
  },
  {
   "cell_type": "code",
   "execution_count": 2,
   "metadata": {},
   "outputs": [],
   "source": [
    "def load_normalize(image_path, normalized=True):\n",
    "    image = Image.open(image_path).resize((512, 512))\n",
    "    image= np.array(image).astype(np.float32)\n",
    "    if len(image.shape) == 3:\n",
    "        image = image.sum(axis=2)\n",
    "    if normalized:\n",
    "        return image / 255.0\n",
    "    else:\n",
    "        return image"
   ]
  },
  {
   "cell_type": "code",
   "execution_count": 3,
   "metadata": {},
   "outputs": [
    {
     "data": {
      "text/html": [
       "<div>\n",
       "<style scoped>\n",
       "    .dataframe tbody tr th:only-of-type {\n",
       "        vertical-align: middle;\n",
       "    }\n",
       "\n",
       "    .dataframe tbody tr th {\n",
       "        vertical-align: top;\n",
       "    }\n",
       "\n",
       "    .dataframe thead th {\n",
       "        text-align: right;\n",
       "    }\n",
       "</style>\n",
       "<table border=\"1\" class=\"dataframe\">\n",
       "  <thead>\n",
       "    <tr style=\"text-align: right;\">\n",
       "      <th></th>\n",
       "      <th>Patient ID</th>\n",
       "      <th>Start Row</th>\n",
       "      <th>End Row</th>\n",
       "      <th>Start Column</th>\n",
       "      <th>End Column</th>\n",
       "      <th>Start Slice</th>\n",
       "      <th>End Slice</th>\n",
       "      <th>size</th>\n",
       "      <th>start_row_scaled</th>\n",
       "      <th>start_column_scaled</th>\n",
       "      <th>end_row_scaled</th>\n",
       "      <th>end_column_scaled</th>\n",
       "      <th>x_center</th>\n",
       "      <th>y_center</th>\n",
       "      <th>width</th>\n",
       "      <th>height</th>\n",
       "    </tr>\n",
       "  </thead>\n",
       "  <tbody>\n",
       "    <tr>\n",
       "      <th>0</th>\n",
       "      <td>Breast_MRI_001</td>\n",
       "      <td>234</td>\n",
       "      <td>271</td>\n",
       "      <td>308</td>\n",
       "      <td>341</td>\n",
       "      <td>89</td>\n",
       "      <td>112</td>\n",
       "      <td>(448, 448)</td>\n",
       "      <td>0.52</td>\n",
       "      <td>0.69</td>\n",
       "      <td>0.60</td>\n",
       "      <td>0.76</td>\n",
       "      <td>0.72</td>\n",
       "      <td>0.56</td>\n",
       "      <td>0.07</td>\n",
       "      <td>0.08</td>\n",
       "    </tr>\n",
       "    <tr>\n",
       "      <th>1</th>\n",
       "      <td>Breast_MRI_002</td>\n",
       "      <td>251</td>\n",
       "      <td>294</td>\n",
       "      <td>108</td>\n",
       "      <td>136</td>\n",
       "      <td>59</td>\n",
       "      <td>72</td>\n",
       "      <td>(512, 512)</td>\n",
       "      <td>0.49</td>\n",
       "      <td>0.21</td>\n",
       "      <td>0.57</td>\n",
       "      <td>0.27</td>\n",
       "      <td>0.24</td>\n",
       "      <td>0.53</td>\n",
       "      <td>0.06</td>\n",
       "      <td>0.08</td>\n",
       "    </tr>\n",
       "    <tr>\n",
       "      <th>2</th>\n",
       "      <td>Breast_MRI_003</td>\n",
       "      <td>351</td>\n",
       "      <td>412</td>\n",
       "      <td>82</td>\n",
       "      <td>139</td>\n",
       "      <td>96</td>\n",
       "      <td>108</td>\n",
       "      <td>(512, 512)</td>\n",
       "      <td>0.69</td>\n",
       "      <td>0.16</td>\n",
       "      <td>0.80</td>\n",
       "      <td>0.27</td>\n",
       "      <td>0.22</td>\n",
       "      <td>0.74</td>\n",
       "      <td>0.11</td>\n",
       "      <td>0.11</td>\n",
       "    </tr>\n",
       "    <tr>\n",
       "      <th>3</th>\n",
       "      <td>Breast_MRI_004</td>\n",
       "      <td>262</td>\n",
       "      <td>280</td>\n",
       "      <td>193</td>\n",
       "      <td>204</td>\n",
       "      <td>86</td>\n",
       "      <td>95</td>\n",
       "      <td>(512, 512)</td>\n",
       "      <td>0.51</td>\n",
       "      <td>0.38</td>\n",
       "      <td>0.55</td>\n",
       "      <td>0.40</td>\n",
       "      <td>0.39</td>\n",
       "      <td>0.53</td>\n",
       "      <td>0.02</td>\n",
       "      <td>0.04</td>\n",
       "    </tr>\n",
       "    <tr>\n",
       "      <th>4</th>\n",
       "      <td>Breast_MRI_005</td>\n",
       "      <td>188</td>\n",
       "      <td>213</td>\n",
       "      <td>138</td>\n",
       "      <td>178</td>\n",
       "      <td>76</td>\n",
       "      <td>122</td>\n",
       "      <td>(448, 448)</td>\n",
       "      <td>0.42</td>\n",
       "      <td>0.31</td>\n",
       "      <td>0.48</td>\n",
       "      <td>0.40</td>\n",
       "      <td>0.35</td>\n",
       "      <td>0.45</td>\n",
       "      <td>0.09</td>\n",
       "      <td>0.06</td>\n",
       "    </tr>\n",
       "  </tbody>\n",
       "</table>\n",
       "</div>"
      ],
      "text/plain": [
       "       Patient ID  Start Row  End Row  Start Column  End Column  Start Slice   \n",
       "0  Breast_MRI_001        234      271           308         341           89  \\\n",
       "1  Breast_MRI_002        251      294           108         136           59   \n",
       "2  Breast_MRI_003        351      412            82         139           96   \n",
       "3  Breast_MRI_004        262      280           193         204           86   \n",
       "4  Breast_MRI_005        188      213           138         178           76   \n",
       "\n",
       "   End Slice        size  start_row_scaled  start_column_scaled   \n",
       "0        112  (448, 448)              0.52                 0.69  \\\n",
       "1         72  (512, 512)              0.49                 0.21   \n",
       "2        108  (512, 512)              0.69                 0.16   \n",
       "3         95  (512, 512)              0.51                 0.38   \n",
       "4        122  (448, 448)              0.42                 0.31   \n",
       "\n",
       "   end_row_scaled  end_column_scaled  x_center  y_center  width  height  \n",
       "0            0.60               0.76      0.72      0.56   0.07    0.08  \n",
       "1            0.57               0.27      0.24      0.53   0.06    0.08  \n",
       "2            0.80               0.27      0.22      0.74   0.11    0.11  \n",
       "3            0.55               0.40      0.39      0.53   0.02    0.04  \n",
       "4            0.48               0.40      0.35      0.45   0.09    0.06  "
      ]
     },
     "execution_count": 3,
     "metadata": {},
     "output_type": "execute_result"
    }
   ],
   "source": [
    "annotations = pd.read_csv('annotations.csv')\n",
    "annotations.head()"
   ]
  },
  {
   "cell_type": "code",
   "execution_count": 4,
   "metadata": {},
   "outputs": [
    {
     "data": {
      "text/html": [
       "<div>\n",
       "<style scoped>\n",
       "    .dataframe tbody tr th:only-of-type {\n",
       "        vertical-align: middle;\n",
       "    }\n",
       "\n",
       "    .dataframe tbody tr th {\n",
       "        vertical-align: top;\n",
       "    }\n",
       "\n",
       "    .dataframe thead th {\n",
       "        text-align: right;\n",
       "    }\n",
       "</style>\n",
       "<table border=\"1\" class=\"dataframe\">\n",
       "  <thead>\n",
       "    <tr style=\"text-align: right;\">\n",
       "      <th></th>\n",
       "      <th>Patient ID</th>\n",
       "      <th>Start Row</th>\n",
       "      <th>End Row</th>\n",
       "      <th>Start Column</th>\n",
       "      <th>End Column</th>\n",
       "      <th>Start Slice</th>\n",
       "      <th>End Slice</th>\n",
       "      <th>size</th>\n",
       "      <th>start_row_scaled</th>\n",
       "      <th>start_column_scaled</th>\n",
       "      <th>end_row_scaled</th>\n",
       "      <th>end_column_scaled</th>\n",
       "      <th>x_center</th>\n",
       "      <th>y_center</th>\n",
       "      <th>width</th>\n",
       "      <th>height</th>\n",
       "    </tr>\n",
       "  </thead>\n",
       "  <tbody>\n",
       "    <tr>\n",
       "      <th>299</th>\n",
       "      <td>Breast_MRI_305</td>\n",
       "      <td>223</td>\n",
       "      <td>247</td>\n",
       "      <td>117</td>\n",
       "      <td>137</td>\n",
       "      <td>128</td>\n",
       "      <td>140</td>\n",
       "      <td>(512, 512)</td>\n",
       "      <td>0.44</td>\n",
       "      <td>0.23</td>\n",
       "      <td>0.48</td>\n",
       "      <td>0.27</td>\n",
       "      <td>0.25</td>\n",
       "      <td>0.46</td>\n",
       "      <td>0.04</td>\n",
       "      <td>0.04</td>\n",
       "    </tr>\n",
       "    <tr>\n",
       "      <th>300</th>\n",
       "      <td>Breast_MRI_306</td>\n",
       "      <td>284</td>\n",
       "      <td>319</td>\n",
       "      <td>344</td>\n",
       "      <td>383</td>\n",
       "      <td>87</td>\n",
       "      <td>102</td>\n",
       "      <td>(512, 512)</td>\n",
       "      <td>0.55</td>\n",
       "      <td>0.67</td>\n",
       "      <td>0.62</td>\n",
       "      <td>0.75</td>\n",
       "      <td>0.71</td>\n",
       "      <td>0.58</td>\n",
       "      <td>0.08</td>\n",
       "      <td>0.07</td>\n",
       "    </tr>\n",
       "    <tr>\n",
       "      <th>301</th>\n",
       "      <td>Breast_MRI_307</td>\n",
       "      <td>142</td>\n",
       "      <td>200</td>\n",
       "      <td>286</td>\n",
       "      <td>327</td>\n",
       "      <td>115</td>\n",
       "      <td>142</td>\n",
       "      <td>(448, 448)</td>\n",
       "      <td>0.32</td>\n",
       "      <td>0.64</td>\n",
       "      <td>0.45</td>\n",
       "      <td>0.73</td>\n",
       "      <td>0.69</td>\n",
       "      <td>0.39</td>\n",
       "      <td>0.09</td>\n",
       "      <td>0.13</td>\n",
       "    </tr>\n",
       "    <tr>\n",
       "      <th>302</th>\n",
       "      <td>Breast_MRI_308</td>\n",
       "      <td>272</td>\n",
       "      <td>308</td>\n",
       "      <td>96</td>\n",
       "      <td>152</td>\n",
       "      <td>77</td>\n",
       "      <td>98</td>\n",
       "      <td>(512, 512)</td>\n",
       "      <td>0.53</td>\n",
       "      <td>0.19</td>\n",
       "      <td>0.60</td>\n",
       "      <td>0.30</td>\n",
       "      <td>0.24</td>\n",
       "      <td>0.56</td>\n",
       "      <td>0.11</td>\n",
       "      <td>0.07</td>\n",
       "    </tr>\n",
       "    <tr>\n",
       "      <th>303</th>\n",
       "      <td>Breast_MRI_309</td>\n",
       "      <td>381</td>\n",
       "      <td>397</td>\n",
       "      <td>365</td>\n",
       "      <td>386</td>\n",
       "      <td>101</td>\n",
       "      <td>113</td>\n",
       "      <td>(512, 512)</td>\n",
       "      <td>0.74</td>\n",
       "      <td>0.71</td>\n",
       "      <td>0.78</td>\n",
       "      <td>0.75</td>\n",
       "      <td>0.73</td>\n",
       "      <td>0.76</td>\n",
       "      <td>0.04</td>\n",
       "      <td>0.04</td>\n",
       "    </tr>\n",
       "  </tbody>\n",
       "</table>\n",
       "</div>"
      ],
      "text/plain": [
       "         Patient ID  Start Row  End Row  Start Column  End Column   \n",
       "299  Breast_MRI_305        223      247           117         137  \\\n",
       "300  Breast_MRI_306        284      319           344         383   \n",
       "301  Breast_MRI_307        142      200           286         327   \n",
       "302  Breast_MRI_308        272      308            96         152   \n",
       "303  Breast_MRI_309        381      397           365         386   \n",
       "\n",
       "     Start Slice  End Slice        size  start_row_scaled   \n",
       "299          128        140  (512, 512)              0.44  \\\n",
       "300           87        102  (512, 512)              0.55   \n",
       "301          115        142  (448, 448)              0.32   \n",
       "302           77         98  (512, 512)              0.53   \n",
       "303          101        113  (512, 512)              0.74   \n",
       "\n",
       "     start_column_scaled  end_row_scaled  end_column_scaled  x_center   \n",
       "299                 0.23            0.48               0.27      0.25  \\\n",
       "300                 0.67            0.62               0.75      0.71   \n",
       "301                 0.64            0.45               0.73      0.69   \n",
       "302                 0.19            0.60               0.30      0.24   \n",
       "303                 0.71            0.78               0.75      0.73   \n",
       "\n",
       "     y_center  width  height  \n",
       "299      0.46   0.04    0.04  \n",
       "300      0.58   0.08    0.07  \n",
       "301      0.39   0.09    0.13  \n",
       "302      0.56   0.11    0.07  \n",
       "303      0.76   0.04    0.04  "
      ]
     },
     "execution_count": 4,
     "metadata": {},
     "output_type": "execute_result"
    }
   ],
   "source": [
    "annotations.tail()"
   ]
  },
  {
   "cell_type": "code",
   "execution_count": 5,
   "metadata": {},
   "outputs": [],
   "source": [
    "annotations[\"ID\"] = annotations[\"Patient ID\"].apply(lambda x: int(x.split(\"_\")[-1]))"
   ]
  },
  {
   "cell_type": "code",
   "execution_count": 6,
   "metadata": {},
   "outputs": [
    {
     "data": {
      "text/plain": [
       "0"
      ]
     },
     "execution_count": 6,
     "metadata": {},
     "output_type": "execute_result"
    }
   ],
   "source": [
    "annotations[\"ID\"][annotations[\"ID\"] == 1].index[0]"
   ]
  },
  {
   "cell_type": "code",
   "execution_count": 7,
   "metadata": {},
   "outputs": [],
   "source": [
    "pos_images = np.zeros((304, 512, 512), dtype=np.float32)\n",
    "all_pos_images = glob.glob(os.path.join('/workspaces/breast-tumor-detection/Data/Original_Data/pos/*.png'))\n",
    "for image_path in all_pos_images:\n",
    "    id = image_path.split('/')[-1].split('.')[0].split('-')[-1][-3:]\n",
    "    img = load_normalize(image_path,normalized=False)\n",
    "    ind = annotations[\"ID\"][annotations[\"ID\"] == int(id)].index[0]\n",
    "    pos_images[ind] = img"
   ]
  },
  {
   "cell_type": "code",
   "execution_count": 8,
   "metadata": {},
   "outputs": [
    {
     "data": {
      "text/plain": [
       "304"
      ]
     },
     "execution_count": 8,
     "metadata": {},
     "output_type": "execute_result"
    }
   ],
   "source": [
    "len(pos_images)"
   ]
  },
  {
   "cell_type": "code",
   "execution_count": 9,
   "metadata": {},
   "outputs": [],
   "source": [
    "with open(\"annotations.txt\") as file:\n",
    "    annotation = [line.rstrip() for line in file]"
   ]
  },
  {
   "cell_type": "code",
   "execution_count": 10,
   "metadata": {},
   "outputs": [
    {
     "data": {
      "text/plain": [
       "'1.0\\t0.72\\t0.56\\t0.07\\t0.08'"
      ]
     },
     "execution_count": 10,
     "metadata": {},
     "output_type": "execute_result"
    }
   ],
   "source": [
    "annotation[0]"
   ]
  },
  {
   "cell_type": "code",
   "execution_count": 19,
   "metadata": {},
   "outputs": [],
   "source": [
    "neg_images = np.zeros((304, 512, 512), dtype=np.float32)\n",
    "all_neg_images = glob.glob(os.path.join('/workspaces/breast-tumor-detection/Data/Original_Data/neg/*.png'))\n",
    "for i,image_path in enumerate(all_neg_images):\n",
    "    img = load_normalize(image_path,normalized=False)\n",
    "    neg_images[i] = img"
   ]
  },
  {
   "cell_type": "code",
   "execution_count": 22,
   "metadata": {},
   "outputs": [],
   "source": [
    "images = np.concatenate((pos_images, neg_images), axis=0)"
   ]
  },
  {
   "cell_type": "code",
   "execution_count": 23,
   "metadata": {},
   "outputs": [],
   "source": [
    "annotation+=['0.0\\t0.0\\t0.0\\t0.0\\t0.0']*304"
   ]
  },
  {
   "cell_type": "code",
   "execution_count": 24,
   "metadata": {},
   "outputs": [],
   "source": [
    "# Split the dataset into train-valid-test splits \n",
    "train_images, val_images, train_annotations, val_annotations = train_test_split(images, annotation, test_size = 0.2, random_state = 1)\n",
    "val_images, test_images, val_annotations, test_annotations = train_test_split(val_images, val_annotations, test_size = 0.5, random_state = 1)"
   ]
  },
  {
   "cell_type": "code",
   "execution_count": 13,
   "metadata": {},
   "outputs": [
    {
     "name": "stdout",
     "output_type": "stream",
     "text": [
      "mkdir: cannot create directory ‘datasets/labels/train’: File exists\n",
      "mkdir: cannot create directory ‘datasets/labels/val’: File exists\n",
      "mkdir: cannot create directory ‘datasets/labels/test’: File exists\n"
     ]
    }
   ],
   "source": [
    "# !mkdir datasets/images/train datasets/images/val datasets/images/test datasets/labels/train datasets/labels/val datasets/labels/test\n",
    "!mkdir datasets/labels/train datasets/labels/val datasets/labels/test"
   ]
  },
  {
   "cell_type": "code",
   "execution_count": 32,
   "metadata": {},
   "outputs": [],
   "source": [
    "for i in range(0, len(train_images)):\n",
    "    im = Image.fromarray(train_images[i])\n",
    "    if im.mode != 'RGB':\n",
    "        im = im.convert('RGB')\n",
    "    im.save(\"/workspaces/breast-tumor-detection/Model/yolov5/datasets/images/train/\" + str(i) + \".png\")"
   ]
  },
  {
   "cell_type": "code",
   "execution_count": 33,
   "metadata": {},
   "outputs": [],
   "source": [
    "for i in range(0, len(val_images)):\n",
    "    im = Image.fromarray(val_images[i])\n",
    "    if im.mode != 'RGB':\n",
    "        im = im.convert('RGB')\n",
    "    im.save(\"/workspaces/breast-tumor-detection/Model/yolov5/datasets/images/val/\" + str(i) + \".png\")\n",
    "for i in range(0, len(test_images)):\n",
    "    im = Image.fromarray(test_images[i])\n",
    "    if im.mode != 'RGB':\n",
    "        im = im.convert('RGB')\n",
    "    im.save(\"/workspaces/breast-tumor-detection/Model/yolov5/datasets/images/test/\" + str(i) + \".png\")"
   ]
  },
  {
   "cell_type": "code",
   "execution_count": 34,
   "metadata": {},
   "outputs": [],
   "source": [
    "for i in range(0, len(train_annotations)):\n",
    "    with open(\"/workspaces/breast-tumor-detection/Model/yolov5/datasets/labels/train/\" + str(i) + \".txt\", \"w\") as file:\n",
    "        file.write(train_annotations[i])\n",
    "\n",
    "for i in range(0, len(val_annotations)):\n",
    "    with open(\"/workspaces/breast-tumor-detection/Model/yolov5/datasets/labels/val/\" + str(i) + \".txt\", \"w\") as file:\n",
    "        file.write(val_annotations[i])\n",
    "\n",
    "for i in range(0, len(test_annotations)):\n",
    "    with open(\"/workspaces/breast-tumor-detection/Model/yolov5/datasets/labels/test/\" + str(i) + \".txt\", \"w\") as file:\n",
    "        file.write(test_annotations[i])"
   ]
  }
 ],
 "metadata": {
  "kernelspec": {
   "display_name": "env",
   "language": "python",
   "name": "python3"
  },
  "language_info": {
   "codemirror_mode": {
    "name": "ipython",
    "version": 3
   },
   "file_extension": ".py",
   "mimetype": "text/x-python",
   "name": "python",
   "nbconvert_exporter": "python",
   "pygments_lexer": "ipython3",
   "version": "3.10.4"
  },
  "orig_nbformat": 4
 },
 "nbformat": 4,
 "nbformat_minor": 2
}
