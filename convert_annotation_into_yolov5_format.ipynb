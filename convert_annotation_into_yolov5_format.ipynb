{
 "cells": [
  {
   "attachments": {},
   "cell_type": "markdown",
   "metadata": {},
   "source": [
    "# YOLO labeling format\n",
    "\n",
    "Most annotation platforms support export at YOLO labeling format, providing one annotations text file per image. Each text file contains one bounding-box (BBox) annotation for each of the objects in the image. The annotations are normalized to the image size, and lie within the range of 0 to 1. They are represented in the following format:\n",
    "\n",
    "$< object-class-ID> <X center> <Y center> <Box width> <Box height>$\n",
    "\n",
    "![annotation box](https://blog.paperspace.com/content/images/2021/03/image-25.png)"
   ]
  },
  {
   "cell_type": "code",
   "execution_count": 1,
   "metadata": {},
   "outputs": [],
   "source": [
    "import pandas as pd\n",
    "import numpy as np\n",
    "import glob\n",
    "from PIL import Image, ImageOps\n",
    "import matplotlib.pyplot as plt"
   ]
  },
  {
   "cell_type": "code",
   "execution_count": 3,
   "metadata": {},
   "outputs": [],
   "source": [
    "annotation = pd.read_excel(\"Preprocessing/Annotation_Boxes.xlsx\")"
   ]
  },
  {
   "cell_type": "code",
   "execution_count": 4,
   "metadata": {},
   "outputs": [
    {
     "data": {
      "text/html": [
       "<div>\n",
       "<style scoped>\n",
       "    .dataframe tbody tr th:only-of-type {\n",
       "        vertical-align: middle;\n",
       "    }\n",
       "\n",
       "    .dataframe tbody tr th {\n",
       "        vertical-align: top;\n",
       "    }\n",
       "\n",
       "    .dataframe thead th {\n",
       "        text-align: right;\n",
       "    }\n",
       "</style>\n",
       "<table border=\"1\" class=\"dataframe\">\n",
       "  <thead>\n",
       "    <tr style=\"text-align: right;\">\n",
       "      <th></th>\n",
       "      <th>Patient ID</th>\n",
       "      <th>Start Row</th>\n",
       "      <th>End Row</th>\n",
       "      <th>Start Column</th>\n",
       "      <th>End Column</th>\n",
       "      <th>Start Slice</th>\n",
       "      <th>End Slice</th>\n",
       "    </tr>\n",
       "  </thead>\n",
       "  <tbody>\n",
       "    <tr>\n",
       "      <th>0</th>\n",
       "      <td>Breast_MRI_001</td>\n",
       "      <td>234</td>\n",
       "      <td>271</td>\n",
       "      <td>308</td>\n",
       "      <td>341</td>\n",
       "      <td>89</td>\n",
       "      <td>112</td>\n",
       "    </tr>\n",
       "    <tr>\n",
       "      <th>1</th>\n",
       "      <td>Breast_MRI_002</td>\n",
       "      <td>251</td>\n",
       "      <td>294</td>\n",
       "      <td>108</td>\n",
       "      <td>136</td>\n",
       "      <td>59</td>\n",
       "      <td>72</td>\n",
       "    </tr>\n",
       "    <tr>\n",
       "      <th>2</th>\n",
       "      <td>Breast_MRI_003</td>\n",
       "      <td>351</td>\n",
       "      <td>412</td>\n",
       "      <td>82</td>\n",
       "      <td>139</td>\n",
       "      <td>96</td>\n",
       "      <td>108</td>\n",
       "    </tr>\n",
       "    <tr>\n",
       "      <th>3</th>\n",
       "      <td>Breast_MRI_004</td>\n",
       "      <td>262</td>\n",
       "      <td>280</td>\n",
       "      <td>193</td>\n",
       "      <td>204</td>\n",
       "      <td>86</td>\n",
       "      <td>95</td>\n",
       "    </tr>\n",
       "    <tr>\n",
       "      <th>4</th>\n",
       "      <td>Breast_MRI_005</td>\n",
       "      <td>188</td>\n",
       "      <td>213</td>\n",
       "      <td>138</td>\n",
       "      <td>178</td>\n",
       "      <td>76</td>\n",
       "      <td>122</td>\n",
       "    </tr>\n",
       "  </tbody>\n",
       "</table>\n",
       "</div>"
      ],
      "text/plain": [
       "       Patient ID  Start Row  End Row  Start Column  End Column  Start Slice   \n",
       "0  Breast_MRI_001        234      271           308         341           89  \\\n",
       "1  Breast_MRI_002        251      294           108         136           59   \n",
       "2  Breast_MRI_003        351      412            82         139           96   \n",
       "3  Breast_MRI_004        262      280           193         204           86   \n",
       "4  Breast_MRI_005        188      213           138         178           76   \n",
       "\n",
       "   End Slice  \n",
       "0        112  \n",
       "1         72  \n",
       "2        108  \n",
       "3         95  \n",
       "4        122  "
      ]
     },
     "execution_count": 4,
     "metadata": {},
     "output_type": "execute_result"
    }
   ],
   "source": [
    "annotation.head()"
   ]
  },
  {
   "attachments": {},
   "cell_type": "markdown",
   "metadata": {},
   "source": [
    "## Normalize Coordinates to 0-1"
   ]
  },
  {
   "cell_type": "code",
   "execution_count": 5,
   "metadata": {},
   "outputs": [],
   "source": [
    "def load_normalize(image_path, normalized=True):\n",
    "    image = Image.open(image_path)\n",
    "    image= np.array(image).astype(np.float32)\n",
    "    if len(image.shape) == 3:\n",
    "        image = image.sum(axis=2)\n",
    "    if normalized:\n",
    "        return image / 255.0\n",
    "    else:\n",
    "        return image"
   ]
  },
  {
   "cell_type": "code",
   "execution_count": 6,
   "metadata": {},
   "outputs": [],
   "source": [
    "x_data = []\n",
    "scale = {}\n",
    "\n",
    "\n",
    "all_images = glob.glob('/workspaces/breast-tumor-detection/Data/pos/*.png')\n",
    "\n",
    "for image_path in all_images:\n",
    "    id = image_path.split('/')[-1].split('.')[0].split('-')[-1]\n",
    "    img = load_normalize(image_path)\n",
    "    x_data.append(img)\n",
    "    scale[id] = img.shape"
   ]
  },
  {
   "cell_type": "code",
   "execution_count": 7,
   "metadata": {},
   "outputs": [
    {
     "data": {
      "text/html": [
       "<div>\n",
       "<style scoped>\n",
       "    .dataframe tbody tr th:only-of-type {\n",
       "        vertical-align: middle;\n",
       "    }\n",
       "\n",
       "    .dataframe tbody tr th {\n",
       "        vertical-align: top;\n",
       "    }\n",
       "\n",
       "    .dataframe thead th {\n",
       "        text-align: right;\n",
       "    }\n",
       "</style>\n",
       "<table border=\"1\" class=\"dataframe\">\n",
       "  <thead>\n",
       "    <tr style=\"text-align: right;\">\n",
       "      <th></th>\n",
       "      <th>Patient ID</th>\n",
       "      <th>Start Row</th>\n",
       "      <th>End Row</th>\n",
       "      <th>Start Column</th>\n",
       "      <th>End Column</th>\n",
       "      <th>Start Slice</th>\n",
       "      <th>End Slice</th>\n",
       "      <th>size</th>\n",
       "    </tr>\n",
       "  </thead>\n",
       "  <tbody>\n",
       "    <tr>\n",
       "      <th>0</th>\n",
       "      <td>Breast_MRI_001</td>\n",
       "      <td>234</td>\n",
       "      <td>271</td>\n",
       "      <td>308</td>\n",
       "      <td>341</td>\n",
       "      <td>89</td>\n",
       "      <td>112</td>\n",
       "      <td>(448, 448)</td>\n",
       "    </tr>\n",
       "    <tr>\n",
       "      <th>1</th>\n",
       "      <td>Breast_MRI_002</td>\n",
       "      <td>251</td>\n",
       "      <td>294</td>\n",
       "      <td>108</td>\n",
       "      <td>136</td>\n",
       "      <td>59</td>\n",
       "      <td>72</td>\n",
       "      <td>(512, 512)</td>\n",
       "    </tr>\n",
       "    <tr>\n",
       "      <th>2</th>\n",
       "      <td>Breast_MRI_003</td>\n",
       "      <td>351</td>\n",
       "      <td>412</td>\n",
       "      <td>82</td>\n",
       "      <td>139</td>\n",
       "      <td>96</td>\n",
       "      <td>108</td>\n",
       "      <td>(512, 512)</td>\n",
       "    </tr>\n",
       "    <tr>\n",
       "      <th>3</th>\n",
       "      <td>Breast_MRI_004</td>\n",
       "      <td>262</td>\n",
       "      <td>280</td>\n",
       "      <td>193</td>\n",
       "      <td>204</td>\n",
       "      <td>86</td>\n",
       "      <td>95</td>\n",
       "      <td>(512, 512)</td>\n",
       "    </tr>\n",
       "    <tr>\n",
       "      <th>4</th>\n",
       "      <td>Breast_MRI_005</td>\n",
       "      <td>188</td>\n",
       "      <td>213</td>\n",
       "      <td>138</td>\n",
       "      <td>178</td>\n",
       "      <td>76</td>\n",
       "      <td>122</td>\n",
       "      <td>(448, 448)</td>\n",
       "    </tr>\n",
       "  </tbody>\n",
       "</table>\n",
       "</div>"
      ],
      "text/plain": [
       "       Patient ID  Start Row  End Row  Start Column  End Column  Start Slice   \n",
       "0  Breast_MRI_001        234      271           308         341           89  \\\n",
       "1  Breast_MRI_002        251      294           108         136           59   \n",
       "2  Breast_MRI_003        351      412            82         139           96   \n",
       "3  Breast_MRI_004        262      280           193         204           86   \n",
       "4  Breast_MRI_005        188      213           138         178           76   \n",
       "\n",
       "   End Slice        size  \n",
       "0        112  (448, 448)  \n",
       "1         72  (512, 512)  \n",
       "2        108  (512, 512)  \n",
       "3         95  (512, 512)  \n",
       "4        122  (448, 448)  "
      ]
     },
     "execution_count": 7,
     "metadata": {},
     "output_type": "execute_result"
    }
   ],
   "source": [
    "size = pd.DataFrame(scale.items(), columns=['id', 'size'])\n",
    "size[\"id\"] = size[\"id\"].apply(lambda x: x[:6]+\"_\"+x[6:9]+\"_\"+x[9:12])\n",
    "annotation = pd.merge(annotation, size.set_index('id'), left_on='Patient ID', right_index=True)\n",
    "annotation.head()"
   ]
  },
  {
   "cell_type": "code",
   "execution_count": 8,
   "metadata": {},
   "outputs": [],
   "source": [
    "assert len(annotation) == len(x_data)"
   ]
  },
  {
   "cell_type": "code",
   "execution_count": 9,
   "metadata": {},
   "outputs": [],
   "source": [
    "annotation['start_row_scaled'] = np.zeros(len(annotation))\n",
    "annotation['start_column_scaled'] = np.zeros(len(annotation))\n",
    "annotation['end_row_scaled'] = np.zeros(len(annotation))\n",
    "annotation['end_column_scaled'] = np.zeros(len(annotation))"
   ]
  },
  {
   "cell_type": "code",
   "execution_count": 10,
   "metadata": {},
   "outputs": [],
   "source": [
    "def add_scaled_boxes(row,target_size=(512,512)):\n",
    "    y_ = row['size'][0]\n",
    "    x_ = row['size'][1]\n",
    "    y_scale = target_size[0]/y_\n",
    "    x_scale = target_size[1]/x_\n",
    "    # df['start_row_scaled'] = df['Start Row'].apply(lambda x: round(x*y_scale/target_size[0],2))\n",
    "    # df['end_row_scaled'] = df['End Row'].apply(lambda x: round(x*y_scale/target_size[0],2))\n",
    "    # df['start_column_scaled'] = df['Start Column'].apply(lambda x: round(x*x_scale/target_size[1],2))\n",
    "    # df['end_column_scaled'] = df['End Column'].apply(lambda x: round(x*x_scale/target_size[1],2))\n",
    "    # row['start_row_scaled'] = row['Start Row'].apply(lambda x: round(x*y_scale,2))\n",
    "    # row['end_row_scaled'] = row['End Row'].apply(lambda x: round(x*y_scale,2))\n",
    "    # row['start_column_scaled'] = row['Start Column'].apply(lambda x: round(x*x_scale,2))\n",
    "    # row['end_column_scaled'] = row['End Column'].apply(lambda x: round(x*x_scale,2))\n",
    "    row['start_row_scaled'] = round(row['Start Row']*y_scale/target_size[0],2)\n",
    "    row['end_row_scaled'] = round(row['End Row']*y_scale/target_size[0],2)\n",
    "    row['start_column_scaled'] = round(row['Start Column']*x_scale/target_size[1],2)\n",
    "    row['end_column_scaled'] = round(row['End Column']*x_scale/target_size[1],2)\n",
    "    return row\n"
   ]
  },
  {
   "cell_type": "code",
   "execution_count": 11,
   "metadata": {},
   "outputs": [],
   "source": [
    "annotation = annotation.apply(add_scaled_boxes, axis=1)"
   ]
  },
  {
   "cell_type": "code",
   "execution_count": 12,
   "metadata": {},
   "outputs": [],
   "source": [
    "annotation['x_center'] = annotation.apply(lambda x: round((x['start_column_scaled'] + x['end_column_scaled'])/2,2), axis=1)\n",
    "annotation['y_center'] = annotation.apply(lambda x: round((x['start_row_scaled'] + x['end_row_scaled'])/2,2), axis=1)\n",
    "annotation['width'] = annotation.apply(lambda x: round(x['end_column_scaled'] - x['start_column_scaled'],2), axis=1)\n",
    "annotation['height'] = annotation.apply(lambda x: round(x['end_row_scaled'] - x['start_row_scaled'],2), axis=1)"
   ]
  },
  {
   "cell_type": "code",
   "execution_count": 13,
   "metadata": {},
   "outputs": [
    {
     "data": {
      "text/plain": [
       "Patient ID             Breast_MRI_174\n",
       "Start Row                         345\n",
       "End Row                           369\n",
       "Start Column                      444\n",
       "End Column                        461\n",
       "Start Slice                        52\n",
       "End Slice                          60\n",
       "size                       (512, 512)\n",
       "start_row_scaled                 0.67\n",
       "start_column_scaled              0.87\n",
       "end_row_scaled                   0.72\n",
       "end_column_scaled                 0.9\n",
       "x_center                         0.89\n",
       "y_center                          0.7\n",
       "width                            0.03\n",
       "height                           0.05\n",
       "Name: 173, dtype: object"
      ]
     },
     "execution_count": 13,
     "metadata": {},
     "output_type": "execute_result"
    }
   ],
   "source": [
    "annotation.loc[173]"
   ]
  },
  {
   "cell_type": "code",
   "execution_count": 14,
   "metadata": {},
   "outputs": [
    {
     "name": "stderr",
     "output_type": "stream",
     "text": [
      "/tmp/ipykernel_9919/2084676687.py:2: SettingWithCopyWarning: \n",
      "A value is trying to be set on a copy of a slice from a DataFrame.\n",
      "Try using .loc[row_indexer,col_indexer] = value instead\n",
      "\n",
      "See the caveats in the documentation: https://pandas.pydata.org/pandas-docs/stable/user_guide/indexing.html#returning-a-view-versus-a-copy\n",
      "  annotation_txt[\"Patient ID\"] = np.ones(len(annotation_txt))\n"
     ]
    },
    {
     "data": {
      "text/html": [
       "<div>\n",
       "<style scoped>\n",
       "    .dataframe tbody tr th:only-of-type {\n",
       "        vertical-align: middle;\n",
       "    }\n",
       "\n",
       "    .dataframe tbody tr th {\n",
       "        vertical-align: top;\n",
       "    }\n",
       "\n",
       "    .dataframe thead th {\n",
       "        text-align: right;\n",
       "    }\n",
       "</style>\n",
       "<table border=\"1\" class=\"dataframe\">\n",
       "  <thead>\n",
       "    <tr style=\"text-align: right;\">\n",
       "      <th></th>\n",
       "      <th>Patient ID</th>\n",
       "      <th>x_center</th>\n",
       "      <th>y_center</th>\n",
       "      <th>width</th>\n",
       "      <th>height</th>\n",
       "    </tr>\n",
       "  </thead>\n",
       "  <tbody>\n",
       "    <tr>\n",
       "      <th>0</th>\n",
       "      <td>1.0</td>\n",
       "      <td>0.72</td>\n",
       "      <td>0.56</td>\n",
       "      <td>0.07</td>\n",
       "      <td>0.08</td>\n",
       "    </tr>\n",
       "    <tr>\n",
       "      <th>1</th>\n",
       "      <td>1.0</td>\n",
       "      <td>0.24</td>\n",
       "      <td>0.53</td>\n",
       "      <td>0.06</td>\n",
       "      <td>0.08</td>\n",
       "    </tr>\n",
       "    <tr>\n",
       "      <th>2</th>\n",
       "      <td>1.0</td>\n",
       "      <td>0.22</td>\n",
       "      <td>0.74</td>\n",
       "      <td>0.11</td>\n",
       "      <td>0.11</td>\n",
       "    </tr>\n",
       "    <tr>\n",
       "      <th>3</th>\n",
       "      <td>1.0</td>\n",
       "      <td>0.39</td>\n",
       "      <td>0.53</td>\n",
       "      <td>0.02</td>\n",
       "      <td>0.04</td>\n",
       "    </tr>\n",
       "    <tr>\n",
       "      <th>4</th>\n",
       "      <td>1.0</td>\n",
       "      <td>0.35</td>\n",
       "      <td>0.45</td>\n",
       "      <td>0.09</td>\n",
       "      <td>0.06</td>\n",
       "    </tr>\n",
       "  </tbody>\n",
       "</table>\n",
       "</div>"
      ],
      "text/plain": [
       "   Patient ID  x_center  y_center  width  height\n",
       "0         1.0      0.72      0.56   0.07    0.08\n",
       "1         1.0      0.24      0.53   0.06    0.08\n",
       "2         1.0      0.22      0.74   0.11    0.11\n",
       "3         1.0      0.39      0.53   0.02    0.04\n",
       "4         1.0      0.35      0.45   0.09    0.06"
      ]
     },
     "execution_count": 14,
     "metadata": {},
     "output_type": "execute_result"
    }
   ],
   "source": [
    "annotation_txt = annotation[['Patient ID', 'x_center', 'y_center', 'width', 'height']]\n",
    "annotation_txt[\"Patient ID\"] = np.ones(len(annotation_txt))\n",
    "annotation_txt.head()"
   ]
  },
  {
   "cell_type": "code",
   "execution_count": 16,
   "metadata": {},
   "outputs": [],
   "source": [
    "annotation.to_csv('annotations.csv', index=False)"
   ]
  },
  {
   "cell_type": "code",
   "execution_count": 15,
   "metadata": {},
   "outputs": [],
   "source": [
    "annotation_txt.to_csv('annotations.txt', sep='\\t', index=False, header=None)"
   ]
  }
 ],
 "metadata": {
  "kernelspec": {
   "display_name": "env",
   "language": "python",
   "name": "python3"
  },
  "language_info": {
   "codemirror_mode": {
    "name": "ipython",
    "version": 3
   },
   "file_extension": ".py",
   "mimetype": "text/x-python",
   "name": "python",
   "nbconvert_exporter": "python",
   "pygments_lexer": "ipython3",
   "version": "3.10.4"
  },
  "orig_nbformat": 4
 },
 "nbformat": 4,
 "nbformat_minor": 2
}
